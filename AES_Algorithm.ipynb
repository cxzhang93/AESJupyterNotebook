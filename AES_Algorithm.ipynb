{
 "cells": [
  {
   "cell_type": "markdown",
   "metadata": {},
   "source": [
    "<h1>Introduction to AES</h1>\n",
    "<p>The Advanced Encryption Standard (AES), also known by its original name <b>Rijndael</b> (Rijndael is a family of ciphers with different key and block sizes) is a specification for the encryption of electronic data established by the U.S. National Institute of Standards and Technology (NIST) in 2001 and has been adopted by the U.S. government and is now used worldwide.\n",
    "\n",
    "AES is a subset of the Rijndael block cipher developed by two Belgian cryptographers, Vincent Rijmen and Joan Daemen, who submitted a proposal to NIST during the AES selection process. It is a symmetric-key algorithm, meaning the same key is used for both encrypting and decrypting the data.\n",
    "\n",
    "For AES, NIST selected three members of the Rijndael family, each with a block size of 128 bits, but three different key lengths: 128, 192 and 256 bits. Over here we will be focusing on key length of 128 bits.</p>\n",
    "\n",
    "<h2>Why AES</h2>\n",
    "<p>AES supersedes the Data Encryption Standard (DES), which was published in 1977.\n",
    "\n",
    "In 1999 the US National Institute of Standards and Technology (NIST) indicated that DES should only be used for legacy systems and instead triple DES (3DES) should be used. Even though 3DES resists brute-force attacks with today’s technology, there are several problems with it. First, it is not very efficient with regard to software implementations. DES is already not particularly well suited for software and 3DES is three times slower than DES. Another disadvantage is the relatively short block size of 64 bits, which is a drawback in certain applications</p>"
   ]
  },
  {
   "cell_type": "markdown",
   "metadata": {},
   "source": [
    "<h2>Byte, Word, State</h2>\n",
    "\n",
    "<img src=\"./jpeg/bbw.JPG\">\n",
    "\n",
    "<p>\n",
    "<b>Byte: </b>An 8-bit hexadecimal number representing a polynomial, ranging from 0x00 till 0xff.<br>\n",
    "<b>Word:  </b>A 32-bit hexadecimal number, concatenating 4 Bytes, ranging from 0x00000000 till 0xffffffff.<br>\n",
    "<b>State: </b>A list consists of 4 Words, with total length of 128 bits. <br>\n",
    "<b>Key: </b>A list consists of 4/6/8 Words, for 128/192/256 bits key separately.<br></p>"
   ]
  },
  {
   "cell_type": "code",
   "execution_count": 2,
   "metadata": {},
   "outputs": [],
   "source": [
    "# Get the Nth Byte from the word\n",
    "def GetByte(word, num):\n",
    "    # Raise error if parameters out of range\n",
    "    if num < 0 or num > 3:\n",
    "        raise ValueError(\"Num out of range!\")\n",
    "    elif word < 0x0 or word > 0xffffffff:\n",
    "        raise ValueError(\"Word value out of range!\")\n",
    "    \n",
    "    # Return selected word\n",
    "    else:\n",
    "        return (word >> ((3-num) * 8) ) & 0xff"
   ]
  },
  {
   "cell_type": "code",
   "execution_count": 3,
   "metadata": {
    "scrolled": true
   },
   "outputs": [],
   "source": [
    "# Display a Byte in hexdecimal form\n",
    "def DisplayByte(byte):\n",
    "    if byte < 0x0 or byte > 0xff:\n",
    "        raise ValueError(\"Byte value out of range!\")\n",
    "    else:\n",
    "        print('{:02x}'.format(byte).upper(), end=' ')\n",
    "\n",
    "# Display a Word in hexdecimal form\n",
    "def DisplayWord(word):\n",
    "    if word < 0x0 or word > 0xffffffff:\n",
    "        raise ValueError(\"Word value out of range!\")\n",
    "    else:\n",
    "        for i in range(4):\n",
    "            DisplayByte(GetByte(word, i))\n",
    "        print()\n",
    "\n",
    "# Display a State in hexdecimal form\n",
    "def DisplayState(state):\n",
    "    for i in range(len(state)):\n",
    "        DisplayWord(state[i])"
   ]
  },
  {
   "cell_type": "code",
   "execution_count": 4,
   "metadata": {},
   "outputs": [
    {
     "name": "stdout",
     "output_type": "stream",
     "text": [
      "01 02 03 04 \n",
      "11 12 13 14 \n",
      "A1 A2 A3 A4 \n",
      "B1 B2 B3 B4 \n"
     ]
    }
   ],
   "source": [
    "# Display a sample state\n",
    "DisplayState([0x01020304, 0x11121314, 0xa1a2a3a4, 0xb1b2b3b4])"
   ]
  },
  {
   "cell_type": "markdown",
   "metadata": {},
   "source": [
    "<h1>Galois Field (GF)</h1>\n",
    "<p>Galois Field, named after Evariste Galois, also known as finite field, refers to a field in which there exists finitely many elements. \n",
    "    \n",
    "It is particularly useful in translating computer data as they are represented in binary forms. That is, <b>computer data</b> consist of combination of two numbers, <b>0 and 1</b>, which are the components in Galois field whose number of elements is two.\n",
    "\n",
    "Representing data as a vector in a Galois Field allows mathematical operations to scramble data easily and effectively.</p>"
   ]
  },
  {
   "cell_type": "markdown",
   "metadata": {},
   "source": [
    "<h1>Galois field GF(2<sup>m</sup>) in AES</h1>\n",
    "\n",
    "<h2>Finite Field Arithmetic in GF</h2>\n",
    "\n",
    "<p>Unlike working in the Euclidean space, addition (and subtraction) and multiplication in Galois Field requires <b>additional steps</b>.\n",
    "    \n",
    "The elements of a finite field can be represented in several different ways. In AES the finite field contains 256 elements and is denoted as GF(2<sup>8</sup>).This field was chosen because each of the field elements can be represented by one byte. For the <b>S-Box and MixColumn transforms</b>, AES treats every byte of the internal data path as an element of the field GF(2<sup>8</sup>) and manipulates the data by performing arithmetic in this finite field. \n",
    "    \n",
    "However, if the order of a finite field is not prime, and 2<sup>8</sup> is clearly not a prime, the addition and multiplication operation cannot be represented by addition and multiplication of integers modulo 2<sup>8</sup>. Such fields with m> 1 are called extension fields. Elements of extension fields can be represented as polynomials, and that computation in the extension field is achieved by performing a certain type of polynomial arithmetic.\n",
    "    \n",
    "The polynomials have a maximum degree of m−1, so that there are m coefficients in total for every element. In the field GF(2<sup>8</sup>), which is used in AES. A byte b, consisting of bits b<sub>7</sub> b<sub>6</sub> b<sub>5</sub> b<sub>4</sub> b<sub>3</sub> b<sub>2</sub> b<sub>1</sub> b<sub>0</sub>, is considered as a polynomial with coefficient in {0,1}:<br>\\begin{align} b_{7}x^{7} + b_{6}x^{6} + b_{5}x^{5} + b_{4}x^{4} + b_{3}x^{3} + b_{2}x^{2} + b_{1}x + b_{0} \\end{align}</p>"
   ]
  },
  {
   "cell_type": "markdown",
   "metadata": {},
   "source": [
    "<p><b>Example:</b> the byte with hexadecimal value ‘0x57’ (binary <b>0101 0111</b>) corresponds with polynomial: <br>\\begin{align} x^{6} + x^{4} + x^{2} + x + 1 \\end{align}</p>"
   ]
  },
  {
   "cell_type": "markdown",
   "metadata": {},
   "source": [
    "<h2>Addition and Subtraction in GF(2<sup>8</sup>)</h2>\n",
    "<p>The key addition layer of AES uses addition.They are simply achieved by performing standard polynomial addition and subtraction: We merely add or subtract coefficients with equal powers of x. The calculation is the same as addition modulo 2 which is equal to bitwise XOR. Let’s have a look at an example in the field GF(2<sup>8</sup>) which is used in AES:\n",
    "\n",
    "Here is how the sumC(x)=A(x)+B(x) of two elements from GF(2<sup>8</sup>) is computed:\n",
    "</p>\n",
    "<img src=\"./jpeg/additionGF.JPG\">\n",
    "\n",
    "<p>Note that if we computed the difference of the two polynomials A(x)−B(x) from the example above, we would get the same result as for the sum.</p>"
   ]
  },
  {
   "cell_type": "markdown",
   "metadata": {},
   "source": [
    "<h2>Multiplication in GF(2<sup>8</sup>)</h2>\n",
    "\n",
    "<p>Multiplication in Galois Field, however, requires more tedious work. Multiplication in GF(2<sup>8</sup>) is the core operation of the <b>MixColumn transformation</b> of AES. \n",
    "    \n",
    "In a first step, two elements (represented by their polynomials) of a finite field GF(2<sup>m</sup>) are multiplied using the standard polynomial multiplication rule: The product of the multiplication is divided by a certain polynomial, and we consider only the remainder after the polynomial division. We need <b>irreducible polynomials</b> for the module reduction.\n",
    "\n",
    "In AES, irreducible polynomial = x<sup>8</sup> + x<sup>4</sup> + x<sup>3</sup> + x<sup>1</sup> + 1 is used. It is part of the AES specification. which is equal to HEX = 0x11b or BIN = 100011011 \n",
    "\n",
    "<b>Example</b>\n",
    "\n",
    "<p>we take the irreducible polynomial modulo P(x) as x<sup>8</sup> + x<sup>4</sup> + x<sup>3</sup> + x<sup>1</sup> + 1. To calculate 84 · 13, we need to go through several steps. First, we compute the product of the polynomial\n",
    "\n",
    "<br>\\begin{align} 84 * 13 = (x^{6} + x^{4} + x^{2}) * (x^{3} + x^{2} + 1)(mod  P(x))\\end{align}\n",
    "<br>\\begin{align} = (x^{9} + x^{8} + x^{7} + 2*x^{6} + x^{5} + 2*x^{4} +x^{2})(mod  P(x))\\end{align}\n",
    "<br>\\begin{align} = (x^{9} + x^{8} + x^{7} + x^{5} +x^{2})(mod  P(x))\\end{align}\n",
    "\n",
    "\n",
    "Then we use long division to compute the reduced polynomial as follows.\n",
    "\n",
    "<br>\\begin{align}(x^{9} + x^{8} + x^{7} + x^{5} +x^{2})/(x^{8} + x^{4} + x^{3} + x^{1} + 1)\\end{align}\n",
    "\n",
    "<br>\\begin{align} = (x^{1} + 1) R (1)\\end{align}\n",
    "\n",
    "The remainder is what we're looking for, so the product of 84 · 13 is equal to 1. Also that 84 and 13 are multiplicative inverse pairs.\n",
    "\n",
    "</p>"
   ]
  },
  {
   "cell_type": "code",
   "execution_count": 5,
   "metadata": {},
   "outputs": [],
   "source": [
    "# Code reference: Wikipedia - Finite field arithmetic\n",
    "# https://en.wikipedia.org/wiki/Finite_field_arithmetic#Rijndael.27s_finite_field\n",
    "# Multiply two numbers in the GF(2^8) finite field defined\n",
    "# using the Russian Peasant Multiplication algorithm\n",
    "def PolyMul(byte_a, byte_b, irr_poly = 0x11b):\n",
    "    product = 0\n",
    "    while byte_a and byte_b:\n",
    "        \n",
    "        # if b is odd, then add the corresponding a to p \n",
    "        # (final product = sum of all a's corresponding to odd b's)\n",
    "        if byte_b & 0x01:\n",
    "            # since we're in GF(2^8), addition is an XOR\n",
    "            product ^= byte_a\n",
    "\n",
    "        # GF modulo: if a >= 128, then it will overflow when shifted left, so reduce\n",
    "        if byte_a & 0x80:\n",
    "            # XOR with the irreducible polynomial\n",
    "            byte_a = (byte_a << 1) ^ irr_poly\n",
    "            \n",
    "        else:\n",
    "            # equivalent to a*2\n",
    "            byte_a <<= 1\n",
    "\n",
    "        # equivalent to b/2\n",
    "        byte_b >>= 1\n",
    "\n",
    "    return product"
   ]
  },
  {
   "cell_type": "markdown",
   "metadata": {},
   "source": [
    "<h3>Try Yourself</h3>"
   ]
  },
  {
   "cell_type": "code",
   "execution_count": 6,
   "metadata": {},
   "outputs": [
    {
     "name": "stdout",
     "output_type": "stream",
     "text": [
      "68 "
     ]
    }
   ],
   "source": [
    "# 0x3d multiply 0x2a under default irreducible polynomial 0x11b\n",
    "DisplayByte(PolyMul(0x3d, 0x2a))"
   ]
  },
  {
   "cell_type": "markdown",
   "metadata": {},
   "source": [
    "<h2>Inversion in GF(2<sup>m</sup>)</h2>\n",
    "<p>\n",
    "    \n",
    "Inversion in GF(2<sup>8</sup>) is the core operation of the <b>Byte Substitution transformation</b>,\n",
    "which contains the AES S-Boxes. For a given finite field GF(2<sup>m</sup>) and the corresponding\n",
    "irreducible reduction polynomial P(x), the inverse A−1 of a nonzero element\n",
    "A ∈ GF(2<sup>m</sup>) is defined as:\n",
    "\n",
    "<img src=\"./jpeg/inverse.JPG\">\n",
    "\n",
    "For small fields — in practice this often means fields with 216 or fewer elements\n",
    "— lookup tables which contain the precomputed inverses of all field elements are\n",
    "often used. Table below shows the example of s-box.\n",
    "\n",
    "<img src=\"./jpeg/sbox.JPG\">\n",
    "\n",
    "The table contains all inverses in GF(2<sup>8</sup>) modulo P(x) = x<sup>8</sup> + x<sup>4</sup> + x<sup>3</sup> + x<sup>1</sup> + 1 in\n",
    "hexadecimal notation. A special case is the entry for the field element 0, for which\n",
    "an inverse does not exist. However, for the AES S-Box, a substitution table is needed\n",
    "that is defined for every possible input value.</p>"
   ]
  },
  {
   "cell_type": "code",
   "execution_count": 7,
   "metadata": {},
   "outputs": [],
   "source": [
    "# Find the inverse of byte by GF(2^8) modulo irr_poly by brute-force search\n",
    "def FindInverse(byte, irr_poly):\n",
    "    if byte == 0:\n",
    "        return 0\n",
    "\n",
    "    else:\n",
    "        # Multiplying byte by every number in GF(2^8) until the product is 1\n",
    "        # At most 128 loops per execution\n",
    "        for i in range(2**8):\n",
    "            if PolyMul(byte, i, irr_poly) == 1:\n",
    "                return i\n",
    "        \n",
    "        # If no inverse found\n",
    "        # Throw error here\n",
    "        raise IndexError(\"No inverse found!\")"
   ]
  },
  {
   "cell_type": "markdown",
   "metadata": {},
   "source": [
    "<h3>Try Yourself</h3>"
   ]
  },
  {
   "cell_type": "code",
   "execution_count": 8,
   "metadata": {},
   "outputs": [
    {
     "name": "stdout",
     "output_type": "stream",
     "text": [
      "4D "
     ]
    }
   ],
   "source": [
    "# Inverse of 0x25 under default irreducible polynomial 0x11b\n",
    "DisplayByte(FindInverse(0x25, 0x11b))"
   ]
  },
  {
   "cell_type": "markdown",
   "metadata": {},
   "source": [
    "<h1>AES Look up table (S-Box)</h1>\n",
    "<p>This document demonstrates how look up table used in AES algorithm being generated.\n",
    "\n",
    "The Rijndael S-box is a substitution box (lookup table) used in the Rijndael cipher, which the Advanced Encryption Standard (AES) cryptographic algorithm was based on.</p>"
   ]
  },
  {
   "cell_type": "code",
   "execution_count": 9,
   "metadata": {},
   "outputs": [],
   "source": [
    "# Find the result of a polynomial after left circular shift by n bits\n",
    "def LftSftByte(byte, bit):\n",
    "    return ((byte << bit % 8) & (2**8 - 1)) | (byte >> (8 - bit % 8))"
   ]
  },
  {
   "cell_type": "markdown",
   "metadata": {},
   "source": [
    "<h3>Try Yourself</h3>"
   ]
  },
  {
   "cell_type": "code",
   "execution_count": 10,
   "metadata": {},
   "outputs": [
    {
     "name": "stdout",
     "output_type": "stream",
     "text": [
      "19 "
     ]
    }
   ],
   "source": [
    "# left circular shift 3 bits for polynomial 0x23\n",
    "DisplayByte(LftSftByte(0x23, 3))"
   ]
  },
  {
   "cell_type": "code",
   "execution_count": 11,
   "metadata": {},
   "outputs": [],
   "source": [
    "# Initiate an 16x16 look up table and return the result in array form\n",
    "def SBoxInit(irr_poly=0x11b, add_poly=0x63):\n",
    "    # Initialize look up table by filling -1 in a 1-Dimensional list with size of 256\n",
    "    look_up_table = [-1 for x in range(256)]\n",
    "    \n",
    "    # Filling the look up table cell by cell by a for loop\n",
    "    for x in range(256):\n",
    "        inv_poly = FindInverse(x, irr_poly)\n",
    "        look_up_table[x] = inv_poly ^ LftSftByte(inv_poly, 1) ^ LftSftByte(inv_poly, 2) \\\n",
    "            ^ LftSftByte(inv_poly, 3) ^ LftSftByte(inv_poly, 4) ^ add_poly\n",
    "\n",
    "    return look_up_table"
   ]
  },
  {
   "cell_type": "code",
   "execution_count": 12,
   "metadata": {},
   "outputs": [],
   "source": [
    "# Create a constant sbox and use defined function to initialize\n",
    "S_BOX = SBoxInit()"
   ]
  },
  {
   "cell_type": "code",
   "execution_count": 13,
   "metadata": {},
   "outputs": [],
   "source": [
    "# Print the resulting sbox / rsbox as a table\n",
    "def DisplayLUT(look_up_table):\n",
    "    # Print header of the sbox / rsbox\n",
    "    print(\"x\\\\y\", end=\"\")\n",
    "    for num in range(16):\n",
    "        print(\" {:1x}\".format(num).upper(), end=\" \")\n",
    "    print()\n",
    "\n",
    "    # Print values within sbox / rsbox\n",
    "    for i in range(16):\n",
    "        print(\"{:1x} \".format(i).upper(), end=\" \")\n",
    "        for j in range(16):\n",
    "            print(\"{:02x}\".format(look_up_table[16*i + j]).upper(), end=\" \")\n",
    "        print()"
   ]
  },
  {
   "cell_type": "code",
   "execution_count": 14,
   "metadata": {
    "scrolled": false
   },
   "outputs": [
    {
     "name": "stdout",
     "output_type": "stream",
     "text": [
      "x\\y 0  1  2  3  4  5  6  7  8  9  A  B  C  D  E  F \n",
      "0  63 7C 77 7B F2 6B 6F C5 30 01 67 2B FE D7 AB 76 \n",
      "1  CA 82 C9 7D FA 59 47 F0 AD D4 A2 AF 9C A4 72 C0 \n",
      "2  B7 FD 93 26 36 3F F7 CC 34 A5 E5 F1 71 D8 31 15 \n",
      "3  04 C7 23 C3 18 96 05 9A 07 12 80 E2 EB 27 B2 75 \n",
      "4  09 83 2C 1A 1B 6E 5A A0 52 3B D6 B3 29 E3 2F 84 \n",
      "5  53 D1 00 ED 20 FC B1 5B 6A CB BE 39 4A 4C 58 CF \n",
      "6  D0 EF AA FB 43 4D 33 85 45 F9 02 7F 50 3C 9F A8 \n",
      "7  51 A3 40 8F 92 9D 38 F5 BC B6 DA 21 10 FF F3 D2 \n",
      "8  CD 0C 13 EC 5F 97 44 17 C4 A7 7E 3D 64 5D 19 73 \n",
      "9  60 81 4F DC 22 2A 90 88 46 EE B8 14 DE 5E 0B DB \n",
      "A  E0 32 3A 0A 49 06 24 5C C2 D3 AC 62 91 95 E4 79 \n",
      "B  E7 C8 37 6D 8D D5 4E A9 6C 56 F4 EA 65 7A AE 08 \n",
      "C  BA 78 25 2E 1C A6 B4 C6 E8 DD 74 1F 4B BD 8B 8A \n",
      "D  70 3E B5 66 48 03 F6 0E 61 35 57 B9 86 C1 1D 9E \n",
      "E  E1 F8 98 11 69 D9 8E 94 9B 1E 87 E9 CE 55 28 DF \n",
      "F  8C A1 89 0D BF E6 42 68 41 99 2D 0F B0 54 BB 16 \n"
     ]
    }
   ],
   "source": [
    "# Display generated s-box value by the funtion above\n",
    "DisplayLUT(S_BOX)\n",
    "\n",
    "# Below is the generated S-box"
   ]
  },
  {
   "cell_type": "markdown",
   "metadata": {},
   "source": [
    "<h2>Inverse S-box</h2>"
   ]
  },
  {
   "cell_type": "code",
   "execution_count": 15,
   "metadata": {},
   "outputs": [],
   "source": [
    "def RSBoxInit():\n",
    "    # Initialize look up table by filling -1 in a 1-Dimensional list with size of 256\n",
    "    look_up_table = [-1 for x in range(256)]\n",
    "    \n",
    "    # Fill in inverse of look up table\n",
    "    for x in range(256):\n",
    "        look_up_table[x] = S_BOX.index(x)\n",
    "    \n",
    "    return look_up_table"
   ]
  },
  {
   "cell_type": "code",
   "execution_count": 16,
   "metadata": {},
   "outputs": [],
   "source": [
    "# Create a constant rsbox and use defined function to initialize\n",
    "RS_BOX = RSBoxInit()"
   ]
  },
  {
   "cell_type": "code",
   "execution_count": 17,
   "metadata": {},
   "outputs": [
    {
     "name": "stdout",
     "output_type": "stream",
     "text": [
      "x\\y 0  1  2  3  4  5  6  7  8  9  A  B  C  D  E  F \n",
      "0  52 09 6A D5 30 36 A5 38 BF 40 A3 9E 81 F3 D7 FB \n",
      "1  7C E3 39 82 9B 2F FF 87 34 8E 43 44 C4 DE E9 CB \n",
      "2  54 7B 94 32 A6 C2 23 3D EE 4C 95 0B 42 FA C3 4E \n",
      "3  08 2E A1 66 28 D9 24 B2 76 5B A2 49 6D 8B D1 25 \n",
      "4  72 F8 F6 64 86 68 98 16 D4 A4 5C CC 5D 65 B6 92 \n",
      "5  6C 70 48 50 FD ED B9 DA 5E 15 46 57 A7 8D 9D 84 \n",
      "6  90 D8 AB 00 8C BC D3 0A F7 E4 58 05 B8 B3 45 06 \n",
      "7  D0 2C 1E 8F CA 3F 0F 02 C1 AF BD 03 01 13 8A 6B \n",
      "8  3A 91 11 41 4F 67 DC EA 97 F2 CF CE F0 B4 E6 73 \n",
      "9  96 AC 74 22 E7 AD 35 85 E2 F9 37 E8 1C 75 DF 6E \n",
      "A  47 F1 1A 71 1D 29 C5 89 6F B7 62 0E AA 18 BE 1B \n",
      "B  FC 56 3E 4B C6 D2 79 20 9A DB C0 FE 78 CD 5A F4 \n",
      "C  1F DD A8 33 88 07 C7 31 B1 12 10 59 27 80 EC 5F \n",
      "D  60 51 7F A9 19 B5 4A 0D 2D E5 7A 9F 93 C9 9C EF \n",
      "E  A0 E0 3B 4D AE 2A F5 B0 C8 EB BB 3C 83 53 99 61 \n",
      "F  17 2B 04 7E BA 77 D6 26 E1 69 14 63 55 21 0C 7D \n"
     ]
    }
   ],
   "source": [
    "# Display generated reverse s-box value by the funtion above\n",
    "DisplayLUT(RS_BOX)\n",
    "\n",
    "# Below is the generated reverse S-box"
   ]
  },
  {
   "cell_type": "code",
   "execution_count": 18,
   "metadata": {},
   "outputs": [],
   "source": [
    "def GetSBoxValue(byte):\n",
    "    # byte should be ranging from 0x00 till 0xff\n",
    "    # Throw error if out of range\n",
    "    if byte < 0 or byte > 0xff :\n",
    "        # Throw error here\n",
    "        raise ValueError(\"Input out of range!\")\n",
    "    \n",
    "    # Return sbox value\n",
    "    else:\n",
    "        return S_BOX[byte]"
   ]
  },
  {
   "cell_type": "code",
   "execution_count": 19,
   "metadata": {},
   "outputs": [],
   "source": [
    "def GetRSBoxValue(byte):\n",
    "    # byte should be ranging from 0x00 till 0xff\n",
    "    # Throw error if out of range\n",
    "    if byte < 0 or byte > 0xff :\n",
    "        # Throw error here\n",
    "        raise ValueError(\"Input out of range!\")\n",
    "    \n",
    "    # Return rsbox value\n",
    "    else:\n",
    "        return RS_BOX[byte]"
   ]
  },
  {
   "cell_type": "markdown",
   "metadata": {},
   "source": [
    "<h1>AES Encryption Algorithm</h1>\n",
    "<p>The encryption phase of AES can be broken into three phases: the initial round, the main rounds, and the final round. All of the phases use the same sub-operations in different combinations as follows:\n",
    "\n",
    "<b>KeyExpansion</b>—round keys are derived from the cipher key using Rijndael's key schedule. AES requires a separate 128-bit round key block for each round plus one more.\n",
    "\n",
    "<h3>Initial round key addition:</h3>\n",
    "\n",
    "<b>AddRoundKey</b>—each byte of the state is combined with a byte of the round key using bitwise xor. As mentioned previously, three key lengths must be supported by Rijndael as this was an NIST design requirement. The number of internal rounds to the number of key length are : <b>(128 - 10 rounds ,192 - 12 rounds ,256 - 14 rounds)</b><br>\n",
    "\n",
    "<h3>Main Rounds (9, 11 or 13 rounds based on different key length used):</h3>\n",
    "\n",
    "<b>SubBytes</b>—a non-linear substitution step where each byte is replaced with another according to a lookup table.<br>\n",
    "\n",
    "<b>ShiftRows</b>—a transposition step where the last three rows of the state are shifted cyclically a certain number of steps.<br>\n",
    "\n",
    "<b>MixColumns</b>—a linear mixing operation which operates on the columns of the state, combining the four bytes in each column.<br>\n",
    "\n",
    "<b>AddRoundKey</b>—each byte of the state is combined with a byte of the round key using bitwise xor. As mentioned previously, three key lengths must be supported by Rijndael as this was an NIST design requirement. The number of internal rounds to the number of key length are : <b>(128 - 10 rounds ,192 - 12 rounds ,256 - 14 rounds)</b><br>\n",
    "\n",
    "<h3>Final round (making 10, 12 or 14 rounds in total):</h3>\n",
    "\n",
    "<b>SubBytes</b>—a non-linear substitution step where each byte is replaced with another according to a lookup table.<br>\n",
    "\n",
    "<b>ShiftRows</b>—a transposition step where the last three rows of the state are shifted cyclically a certain number of steps.<br>\n",
    "\n",
    "<b>AddRoundKey</b>—a linear mixing operation which operates on the columns of the state, combining the four bytes in each column.<br></p>"
   ]
  },
  {
   "cell_type": "markdown",
   "metadata": {},
   "source": [
    "<h2>AES Key Schedule</h2>\n",
    "<p>This section describes how round keys used in AES being generated.\n",
    "\n",
    "Key Addition layer A 128-bit round key, or subkey, which has been derived from the main key in the key schedule, is XORed to the state.\n",
    "\n",
    "The key schedule takes the original input key (of length 128, 192 or 256 bit) and derives the subkeys used in AES. Note that an XOR addition of a subkey is used both at the input and output of AES. This process is sometimes referred to as key whitening. The number of subkeys is equal to the number of rounds plus one, due to the key needed for key whitening in the first key addition layer, cf. Fig. 4.2. Thus, for the key length of 128 bits, the number of rounds is 10, and there are 11 subkeys, each of 128 bits.</p>"
   ]
  },
  {
   "cell_type": "markdown",
   "metadata": {},
   "source": [
    "<h3>Round Constant</h3>\n",
    "<p>In the AES algorithm, keys are expanded by something called <b>round constant or key scedule round</b>. The output of this is known as round key. Using XOR encryption, or XOR cipher, the output of each 10 rounds of original plain text is used to make the next input.\n",
    "    \n",
    "The <b>round constant</b> can be obtain easily by multiplying the first round [01 00 00 00] with the second round [02 00 00 00] to get the third row which is [04 00 00 00]. And continue multiplying the second with the third to get the forth round contant etc."
   ]
  },
  {
   "cell_type": "code",
   "execution_count": 20,
   "metadata": {},
   "outputs": [],
   "source": [
    "# Use code below to generate first 10 rcon values because AES only uses up to 10 rcon value:\n",
    "def RconInit():\n",
    "    # Initialize a 1-dimentional array with value -1\n",
    "    rcon_table = [0 for x in range(11)]\n",
    "    \n",
    "    for x in range(11):\n",
    "        if x == 0 or x == 1:\n",
    "            rcon_table[x] = x\n",
    "        elif x  > 1 and rcon_table[x - 1] < 0x80: # 0x80 = 128\n",
    "            rcon_table[x] = 2 * rcon_table[x-1]\n",
    "        else:\n",
    "            rcon_table[x] = (2 * rcon_table[x-1]) ^ 0x1b\n",
    "            \n",
    "        # To avoid overflow\n",
    "        if rcon_table[x] > 255:\n",
    "            rcon_table[x] -= 256\n",
    "    \n",
    "    return rcon_table"
   ]
  },
  {
   "cell_type": "code",
   "execution_count": 21,
   "metadata": {},
   "outputs": [],
   "source": [
    "# Initialize Constant rcon\n",
    "RCON_TABLE = RconInit()"
   ]
  },
  {
   "cell_type": "code",
   "execution_count": 22,
   "metadata": {},
   "outputs": [],
   "source": [
    "# Function to display first 10 values of rcon table\n",
    "def DisplayRcon(array):\n",
    "    for num in range(1,11):\n",
    "        print(\"{:2}\".format(num), end=\" \")\n",
    "    print()\n",
    "        \n",
    "    for i in range(1, 11):\n",
    "        print(\"{:02x}\".format(array[i]).upper(), end=\" \")"
   ]
  },
  {
   "cell_type": "code",
   "execution_count": 23,
   "metadata": {},
   "outputs": [
    {
     "name": "stdout",
     "output_type": "stream",
     "text": [
      " 1  2  3  4  5  6  7  8  9 10 \n",
      "01 02 04 08 10 20 40 80 1B 36 "
     ]
    }
   ],
   "source": [
    "DisplayRcon(RCON_TABLE)"
   ]
  },
  {
   "cell_type": "code",
   "execution_count": 24,
   "metadata": {},
   "outputs": [],
   "source": [
    "def GetRconValue(round):\n",
    "    return RCON_TABLE[round]"
   ]
  },
  {
   "cell_type": "markdown",
   "metadata": {},
   "source": [
    "<h3>Try Yourself</h3>"
   ]
  },
  {
   "cell_type": "code",
   "execution_count": 25,
   "metadata": {},
   "outputs": [
    {
     "name": "stdout",
     "output_type": "stream",
     "text": [
      "1B "
     ]
    }
   ],
   "source": [
    "# Display 9th item in rcon table\n",
    "DisplayByte(GetRconValue(9))"
   ]
  },
  {
   "cell_type": "markdown",
   "metadata": {},
   "source": [
    "<h2>Key Expandsion</h2>\n",
    "<p>After getting the round constant, we can start expanding our key for the AddRoundKey process.</p>\n",
    "\n",
    "<img src=\"./gif/rot_word.gif\">"
   ]
  },
  {
   "cell_type": "code",
   "execution_count": 26,
   "metadata": {},
   "outputs": [],
   "source": [
    "# Find the result of a 32-bit word after left circular shift by n bits\n",
    "def LftSftWord(hex_word, bit):\n",
    "    if hex_word < 0x0 or hex_word > 0xffffffff:\n",
    "        raise ValueError(\"Input word out of range!\")\n",
    "    else:\n",
    "        return ((hex_word << bit % 32) & (2**32 - 1)) | (hex_word >> (32 - bit % 32))"
   ]
  },
  {
   "cell_type": "markdown",
   "metadata": {},
   "source": [
    "<h3>Try Yourself</h3>"
   ]
  },
  {
   "cell_type": "code",
   "execution_count": 27,
   "metadata": {
    "scrolled": true
   },
   "outputs": [
    {
     "name": "stdout",
     "output_type": "stream",
     "text": [
      "CF 4F 3C 09 \n"
     ]
    }
   ],
   "source": [
    "# Left Circular Shift 8 bits\n",
    "DisplayWord(LftSftWord(0x09cf4f3c, 8))"
   ]
  },
  {
   "cell_type": "markdown",
   "metadata": {},
   "source": [
    "<img src=\"./gif/subbyteround.gif\">"
   ]
  },
  {
   "cell_type": "code",
   "execution_count": 28,
   "metadata": {},
   "outputs": [],
   "source": [
    "def SubWord(word):\n",
    "    # Result_List\n",
    "    result = 0\n",
    "    \n",
    "    # Literate through 4 Bytes\n",
    "    for i in range(4):\n",
    "        tmp = GetByte(word, i)\n",
    "            \n",
    "        tmp = GetSBoxValue(tmp)\n",
    "            \n",
    "        # Append the result to the end\n",
    "        result = result << 8 | tmp\n",
    "        \n",
    "    return result"
   ]
  },
  {
   "cell_type": "markdown",
   "metadata": {},
   "source": [
    "<img src=\"./gif/additionround.gif\">"
   ]
  },
  {
   "cell_type": "code",
   "execution_count": 29,
   "metadata": {},
   "outputs": [],
   "source": [
    "def ExpandKey(key):\n",
    "    # Expands an 128,192,256 bytes key into an 1408,2496,3840 bytes key\n",
    "    # Key is an array with 32-bit words.\n",
    "    # AES-128: 4 words, AES-192: 6 words, AES-256: 8 words\n",
    "    N = len(key)\n",
    "    R = N + 7\n",
    "    result = [0 for x in range(4 * R)]\n",
    "    \n",
    "    for i in range(4 * R):\n",
    "        if i < N:\n",
    "            result[i] = key[i]\n",
    "            \n",
    "        elif i >= N and i % N == 0:\n",
    "            result[i] = result[i - N] ^ \\\n",
    "            SubWord(LftSftWord(result[i - 1], 8)) ^ \\\n",
    "            (GetRconValue(int(i / N)) << 24)\n",
    "        \n",
    "        elif i >= N and N > 6 and i % N == 4:\n",
    "            result[i] = result[i - N] ^ SubWord(result[i - 1])\n",
    "            \n",
    "        else:\n",
    "            result[i] = result[i - N] ^ result[i - 1]\n",
    "    \n",
    "    return result"
   ]
  },
  {
   "cell_type": "code",
   "execution_count": 30,
   "metadata": {},
   "outputs": [],
   "source": [
    "# Get round key from the expanded key\n",
    "def GetRoundKey(expandedkey, round):\n",
    "    if round <= 0 or round > len(expandedkey) / 4:\n",
    "        return -1\n",
    "    else:\n",
    "        return expandedkey[((round)*4):((round+1)*4)]"
   ]
  },
  {
   "cell_type": "markdown",
   "metadata": {},
   "source": [
    "<h3>Try Yourself</h3>"
   ]
  },
  {
   "cell_type": "code",
   "execution_count": 31,
   "metadata": {},
   "outputs": [],
   "source": [
    "expandedkey = ExpandKey([0x2b7e1516, 0x28aed2a6, 0xabf71588, 0x09cf4f3c])"
   ]
  },
  {
   "cell_type": "code",
   "execution_count": 32,
   "metadata": {
    "scrolled": true
   },
   "outputs": [
    {
     "name": "stdout",
     "output_type": "stream",
     "text": [
      "3D 80 47 7D \n",
      "47 16 FE 3E \n",
      "1E 23 7E 44 \n",
      "6D 7A 88 3B \n"
     ]
    }
   ],
   "source": [
    "# Get the 3rd round key from the expanded key\n",
    "DisplayState(GetRoundKey(expandedkey, 3))"
   ]
  },
  {
   "cell_type": "markdown",
   "metadata": {},
   "source": [
    "<h2>SubBytes</h2>\n",
    "\n",
    "<p><b>SubBytes</b> or <b>Byte Substitution Layer</b> is a non-linear substitution step where each byte is replaced with another according to a lookup table (S-Box). The Byte Substitution layer can be viewed as a row of 16 parallel S-Boxes, each with 8 input and output bits. \n",
    "    \n",
    "The S-Box substitution is a bijective mapping, which mean each of the 2<sup>8</sup> = 256 possible input elements is one-to-one mapped to one output element. This allows us to <b>uniquely reverse the S-Box</b>, which is needed for decryption. In software implementations the S-Box is usually realized as a 256-by-8 bit lookup table with fixed entries.</p>"
   ]
  },
  {
   "cell_type": "markdown",
   "metadata": {},
   "source": [
    "<img src=\"./gif/sub_bytes.gif\">"
   ]
  },
  {
   "cell_type": "code",
   "execution_count": 33,
   "metadata": {},
   "outputs": [],
   "source": [
    "def SubBytes(state):\n",
    "    # State is a 4-word list\n",
    "    result = [0 for x in range(len(state))]\n",
    "    \n",
    "    # Literate through 4 words\n",
    "    for i in range(4):\n",
    "        # Literate through 4 bytes\n",
    "        for j in range(4):\n",
    "            byte = GetByte(state[i], j)\n",
    "            \n",
    "            # Substitute byte with previous generated S-Box\n",
    "            byte = GetSBoxValue(byte)\n",
    "            \n",
    "            # Append the result to the end\n",
    "            result[i] = result[i] << 8 | byte\n",
    "            \n",
    "    return result"
   ]
  },
  {
   "cell_type": "code",
   "execution_count": 34,
   "metadata": {},
   "outputs": [
    {
     "name": "stdout",
     "output_type": "stream",
     "text": [
      "x\\y 0  1  2  3  4  5  6  7  8  9  A  B  C  D  E  F \n",
      "0  63 7C 77 7B F2 6B 6F C5 30 01 67 2B FE D7 AB 76 \n",
      "1  CA 82 C9 7D FA 59 47 F0 AD D4 A2 AF 9C A4 72 C0 \n",
      "2  B7 FD 93 26 36 3F F7 CC 34 A5 E5 F1 71 D8 31 15 \n",
      "3  04 C7 23 C3 18 96 05 9A 07 12 80 E2 EB 27 B2 75 \n",
      "4  09 83 2C 1A 1B 6E 5A A0 52 3B D6 B3 29 E3 2F 84 \n",
      "5  53 D1 00 ED 20 FC B1 5B 6A CB BE 39 4A 4C 58 CF \n",
      "6  D0 EF AA FB 43 4D 33 85 45 F9 02 7F 50 3C 9F A8 \n",
      "7  51 A3 40 8F 92 9D 38 F5 BC B6 DA 21 10 FF F3 D2 \n",
      "8  CD 0C 13 EC 5F 97 44 17 C4 A7 7E 3D 64 5D 19 73 \n",
      "9  60 81 4F DC 22 2A 90 88 46 EE B8 14 DE 5E 0B DB \n",
      "A  E0 32 3A 0A 49 06 24 5C C2 D3 AC 62 91 95 E4 79 \n",
      "B  E7 C8 37 6D 8D D5 4E A9 6C 56 F4 EA 65 7A AE 08 \n",
      "C  BA 78 25 2E 1C A6 B4 C6 E8 DD 74 1F 4B BD 8B 8A \n",
      "D  70 3E B5 66 48 03 F6 0E 61 35 57 B9 86 C1 1D 9E \n",
      "E  E1 F8 98 11 69 D9 8E 94 9B 1E 87 E9 CE 55 28 DF \n",
      "F  8C A1 89 0D BF E6 42 68 41 99 2D 0F B0 54 BB 16 \n"
     ]
    }
   ],
   "source": [
    "# Recall the S-box generated before\n",
    "DisplayLUT(S_BOX)\n",
    "\n",
    "# Below is the correspoding s-box use for the SubByte step"
   ]
  },
  {
   "cell_type": "markdown",
   "metadata": {},
   "source": [
    "<h3>Try Yourself</h3>"
   ]
  },
  {
   "cell_type": "code",
   "execution_count": 35,
   "metadata": {},
   "outputs": [
    {
     "name": "stdout",
     "output_type": "stream",
     "text": [
      "D4 27 11 AE \n",
      "E0 BF 98 F1 \n",
      "B8 B4 5D E5 \n",
      "1E 41 52 30 \n"
     ]
    }
   ],
   "source": [
    "DisplayState(SubBytes([0x193de3be, 0xa0f4e22b, 0x9ac68d2a, 0xe9f84808]))"
   ]
  },
  {
   "cell_type": "markdown",
   "metadata": {},
   "source": [
    "<h1>Diffusion Layer</h1>\n",
    "\n",
    "\n",
    "<p>In AES, the Diffusion layer consists of two sublayers, the <b>ShiftRows</b> transformation and the <b>MixColumn</b> transformation. Diffusion is the spreading of the influence of individual bits over the entire state. Unlike the nonlinear S-Box, the diffusion layer performs a linear operation on state matrices.</p>"
   ]
  },
  {
   "cell_type": "markdown",
   "metadata": {},
   "source": [
    "<h2>ShiftRows</h2>\n",
    "\n",
    "\n",
    "<p>The ShiftRows transformation cyclically shifts the second row of the state matrix by three bytes to the right, the third row by two bytes to the right and the fourth row by one byte to the right. The first row is not changed by the ShiftRows transformation. The purpose of the ShiftRows transformation is to increase the diffusion properties of AES. If the input of the ShiftRows sublayer is given as a state matrix:</p>\n",
    "\n",
    "<img src=\"./gif/shift_rows.gif\">"
   ]
  },
  {
   "cell_type": "code",
   "execution_count": 36,
   "metadata": {},
   "outputs": [],
   "source": [
    "def ShiftRows(state):\n",
    "    # State is a 4-word list\n",
    "    result = [0 for x in range(len(state))]\n",
    "    \n",
    "    # Shift-row operation\n",
    "    for i in range(len(state)):\n",
    "        result[i] = (state[i] & 0xff000000) | (state[i - 3] & 0xff0000)\\\n",
    "        | (state[i - 2] & 0xff00) | (state[i - 1] & 0xff)\n",
    "    \n",
    "    return result"
   ]
  },
  {
   "cell_type": "markdown",
   "metadata": {},
   "source": [
    "<h3>Try Yourself</h3>"
   ]
  },
  {
   "cell_type": "code",
   "execution_count": 37,
   "metadata": {
    "scrolled": true
   },
   "outputs": [
    {
     "name": "stdout",
     "output_type": "stream",
     "text": [
      "D4 BF 5D 30 \n",
      "E0 B4 52 AE \n",
      "B8 41 11 F1 \n",
      "1E 27 98 E5 \n"
     ]
    }
   ],
   "source": [
    "DisplayState(ShiftRows([0xd42711ae, 0xe0bf98f1, 0xb8b45de5, 0x1e415230]))"
   ]
  },
  {
   "cell_type": "markdown",
   "metadata": {},
   "source": [
    "<h2>MixColumns</h2>\n",
    "\n",
    "<p>The MixColumns step is a linear transformation which mixes each column of the state matrix. Since every input byte influences four output bytes, the MixColumn operation is the <b>major diffusion element</b> in AES. The combination of the ShiftRows and MixColumn layer makes it possible that after only three rounds every byte of the state matrix depends on all 16 plaintext bytes.\n",
    "\n",
    "Each 4-byte column is considered as a vector and multiplied by a fixed\n",
    "4×4 matrix. The matrix contains constant entries. Multiplication and addition of the coefficients is done in GF(2<sup>8</sup>). As an example, we show how the first four output bytes are computed:</p>\n",
    "\n",
    "<img src=\"./gif/mix_columns.gif\">"
   ]
  },
  {
   "cell_type": "code",
   "execution_count": 38,
   "metadata": {},
   "outputs": [],
   "source": [
    "# Constant matrix to be used in MixColumn operation\n",
    "MIXCOL_MATRIX = [\n",
    "    [0x2, 0x3, 0x1, 0x1],\n",
    "    [0x1, 0x2, 0x3, 0x1],\n",
    "    [0x1, 0x1, 0x2, 0x3],\n",
    "    [0x3, 0x1, 0x1, 0x2]\n",
    "]"
   ]
  },
  {
   "cell_type": "code",
   "execution_count": 39,
   "metadata": {},
   "outputs": [],
   "source": [
    "def MixColumns(state):\n",
    "    result = [0 for x in range(len(state))]\n",
    "    \n",
    "    # Matrix multiplication\n",
    "    # Of the state with the matrix constant\n",
    "    for i in range (4):\n",
    "        for j in range(4):\n",
    "            # Initialize tmp\n",
    "            tmp = 0\n",
    "            \n",
    "            for k in range(4):\n",
    "                tmp ^= PolyMul(GetByte(state[i],k), MIXCOL_MATRIX[j][k])\n",
    "                \n",
    "            result[i] = (result[i] << 8) | tmp\n",
    "\n",
    "    return result"
   ]
  },
  {
   "cell_type": "markdown",
   "metadata": {},
   "source": [
    "<h3>Try Yourself</h3>"
   ]
  },
  {
   "cell_type": "code",
   "execution_count": 40,
   "metadata": {
    "scrolled": true
   },
   "outputs": [
    {
     "name": "stdout",
     "output_type": "stream",
     "text": [
      "04 66 81 E5 \n",
      "E0 CB 19 9A \n",
      "48 F8 D3 7A \n",
      "28 06 26 4C \n"
     ]
    }
   ],
   "source": [
    "DisplayState(MixColumns([0xd4bf5d30, 0xe0b452ae, 0xb84111f1, 0x1e2798e5]))"
   ]
  },
  {
   "cell_type": "markdown",
   "metadata": {},
   "source": [
    "<h1>AddRoundKey</h1>\n",
    "\n",
    "<p>AddRoundKey or called as <b>Key Additional layer</b> are step where addition of both current 16-byte state matrix and a subkey which also consists of 16 bytes (128 bits) through a bitwise XOR operation. Note that the XOR operation is equal to addition in the Galois field GF(2). </p>\n",
    "\n",
    "\n",
    "<img src=\"./gif/add_round_key.gif\">"
   ]
  },
  {
   "cell_type": "code",
   "execution_count": 41,
   "metadata": {},
   "outputs": [],
   "source": [
    "def AddRoundKey(state, key):\n",
    "    # State is a 4-word list\n",
    "    result = [0 for x in range(len(state))]\n",
    "    \n",
    "    for i in range (len(state)):\n",
    "        result[i] = state[i] ^ key[i]\n",
    "        \n",
    "    return result"
   ]
  },
  {
   "cell_type": "markdown",
   "metadata": {},
   "source": [
    "<h3>Try Yourself</h3>"
   ]
  },
  {
   "cell_type": "code",
   "execution_count": 42,
   "metadata": {},
   "outputs": [
    {
     "name": "stdout",
     "output_type": "stream",
     "text": [
      "A4 9C 7F F2 \n",
      "68 9F 35 2B \n",
      "6B 5B EA 43 \n",
      "02 6A 50 49 \n"
     ]
    }
   ],
   "source": [
    "DisplayState(AddRoundKey([0x046681e5, 0xe0cb199a, 0x48f8d37a, 0x2806264c],\n",
    "           [0xa0fafe17, 0x88542cb1, 0x23a33939, 0x2a6c7605]))"
   ]
  },
  {
   "cell_type": "markdown",
   "metadata": {},
   "source": [
    "<h1>Combine All AES encryption function</h1>"
   ]
  },
  {
   "cell_type": "code",
   "execution_count": 43,
   "metadata": {},
   "outputs": [],
   "source": [
    "def Round(state, roundkey):\n",
    "    result = SubBytes(state)\n",
    "    result = ShiftRows(result)\n",
    "    result = MixColumns(result)\n",
    "    result = AddRoundKey(result, roundkey)\n",
    "    \n",
    "    return result"
   ]
  },
  {
   "cell_type": "code",
   "execution_count": 44,
   "metadata": {},
   "outputs": [],
   "source": [
    "def FinalRound(state, roundkey):\n",
    "    result = SubBytes(state)\n",
    "    result = ShiftRows(result)\n",
    "    result = AddRoundKey(result, roundkey)\n",
    "    \n",
    "    return result"
   ]
  },
  {
   "cell_type": "code",
   "execution_count": 45,
   "metadata": {},
   "outputs": [],
   "source": [
    "def AESEncrypt(state, cipherkey):\n",
    "    # To expand the cipher key\n",
    "    expandedkey = ExpandKey(cipherkey)\n",
    "    \n",
    "    # Add cipher key once beforehead\n",
    "    result = AddRoundKey(state, cipherkey)\n",
    "    \n",
    "    # Determine number of rounds based on cipher key length\n",
    "    if len(cipherkey) == 4: # 128-bits key, 10 rounds\n",
    "        roundnum = 10\n",
    "    elif len(cipherkey) == 6: #192-bits key, 12 rounds\n",
    "        roundnum = 12\n",
    "    elif len(cipherkey) == 8: #256-bits key, 14 rounds\n",
    "        roundnum = 14\n",
    "    else:\n",
    "        # Throw error here\n",
    "        raise ValueError(\"Cipher key format incorrect!\")\n",
    "    \n",
    "    # Loop through Nr-1 rounds\n",
    "    for i in range(1, roundnum):\n",
    "        result = Round(result, GetRoundKey(expandedkey, i))\n",
    "    \n",
    "    # Final Round\n",
    "    result = FinalRound(result, GetRoundKey(expandedkey, roundnum))\n",
    "    \n",
    "    return result"
   ]
  },
  {
   "cell_type": "markdown",
   "metadata": {},
   "source": [
    "<h3>Try Yourself</h3>"
   ]
  },
  {
   "cell_type": "code",
   "execution_count": 46,
   "metadata": {},
   "outputs": [
    {
     "name": "stdout",
     "output_type": "stream",
     "text": [
      "39 25 84 1D \n",
      "02 DC 09 FB \n",
      "DC 11 85 97 \n",
      "19 6A 0B 32 \n"
     ]
    }
   ],
   "source": [
    "tstate = [0x3243f6a8, 0x885a308d, 0x313198a2, 0xe0370734]\n",
    "tkey = [0x2b7e1516, 0x28aed2a6, 0xabf71588, 0x09cf4f3c]\n",
    "\n",
    "tresult = AESEncrypt(tstate, tkey)\n",
    "\n",
    "DisplayState(tresult)"
   ]
  },
  {
   "cell_type": "markdown",
   "metadata": {},
   "source": [
    "<h1>AES Decryption Algorithm</h1>\n",
    "<p>This section describes AES Decryption Algorithm. Because AES is not based on a Feistel network, all layers must actually be inverted, for example:\n",
    "\n",
    "<b>SubBytes layer</b> --> <b>Invert Byte Substitution layer</b>\n",
    "\n",
    "<b>ShiftRows layer</b> --> <b>Invert ShiftRows layer</b>\n",
    "\n",
    "<b>MixColumns layer</b> --> <b>Invert MixColumn layer</b>. \n",
    "\n",
    "There is no Invert AddRoundKey layer since AddRoundKey layer is just the inverse to itself.\n",
    "    \n",
    "However, as we will see, it turns out that the inverse layer operations are fairly similar to the layer operations used for encryption. In addition, the order of the subkeys is reversed, So we need a reversed key schedule.</p>"
   ]
  },
  {
   "cell_type": "markdown",
   "metadata": {},
   "source": [
    "<h2>Invert SubByte</h2>\n",
    "<p>The inverse S-Box is used when decrypting a ciphertext. Since the AES S-Box is a bijective which is a one-to-one mapping, it is possible to construct an inverse S-Box.</p>"
   ]
  },
  {
   "cell_type": "code",
   "execution_count": 47,
   "metadata": {},
   "outputs": [
    {
     "name": "stdout",
     "output_type": "stream",
     "text": [
      "x\\y 0  1  2  3  4  5  6  7  8  9  A  B  C  D  E  F \n",
      "0  52 09 6A D5 30 36 A5 38 BF 40 A3 9E 81 F3 D7 FB \n",
      "1  7C E3 39 82 9B 2F FF 87 34 8E 43 44 C4 DE E9 CB \n",
      "2  54 7B 94 32 A6 C2 23 3D EE 4C 95 0B 42 FA C3 4E \n",
      "3  08 2E A1 66 28 D9 24 B2 76 5B A2 49 6D 8B D1 25 \n",
      "4  72 F8 F6 64 86 68 98 16 D4 A4 5C CC 5D 65 B6 92 \n",
      "5  6C 70 48 50 FD ED B9 DA 5E 15 46 57 A7 8D 9D 84 \n",
      "6  90 D8 AB 00 8C BC D3 0A F7 E4 58 05 B8 B3 45 06 \n",
      "7  D0 2C 1E 8F CA 3F 0F 02 C1 AF BD 03 01 13 8A 6B \n",
      "8  3A 91 11 41 4F 67 DC EA 97 F2 CF CE F0 B4 E6 73 \n",
      "9  96 AC 74 22 E7 AD 35 85 E2 F9 37 E8 1C 75 DF 6E \n",
      "A  47 F1 1A 71 1D 29 C5 89 6F B7 62 0E AA 18 BE 1B \n",
      "B  FC 56 3E 4B C6 D2 79 20 9A DB C0 FE 78 CD 5A F4 \n",
      "C  1F DD A8 33 88 07 C7 31 B1 12 10 59 27 80 EC 5F \n",
      "D  60 51 7F A9 19 B5 4A 0D 2D E5 7A 9F 93 C9 9C EF \n",
      "E  A0 E0 3B 4D AE 2A F5 B0 C8 EB BB 3C 83 53 99 61 \n",
      "F  17 2B 04 7E BA 77 D6 26 E1 69 14 63 55 21 0C 7D \n"
     ]
    }
   ],
   "source": [
    "# Recall the reverse S-box generated by the function before\n",
    "DisplayLUT(RS_BOX)\n",
    "\n",
    "# Below is the generated reverse S-box"
   ]
  },
  {
   "cell_type": "code",
   "execution_count": 48,
   "metadata": {},
   "outputs": [],
   "source": [
    "def InvSubBytes(state):\n",
    "    # State is a 4-word list\n",
    "    result = [0 for x in range(len(state))]\n",
    "    \n",
    "    # Literate through 4 words\n",
    "    for i in range(4):\n",
    "        # Literate through 4 Bytes\n",
    "        for j in range(4):\n",
    "            tmp = GetByte(state[i], j)\n",
    "            \n",
    "            tmp = GetRSBoxValue(tmp)\n",
    "            \n",
    "            # Append the result to the end\n",
    "            result[i] = result[i] << 8 | tmp\n",
    "            \n",
    "    return result"
   ]
  },
  {
   "cell_type": "markdown",
   "metadata": {},
   "source": [
    "<h3>Try Yourself</h3>"
   ]
  },
  {
   "cell_type": "code",
   "execution_count": 49,
   "metadata": {},
   "outputs": [
    {
     "name": "stdout",
     "output_type": "stream",
     "text": [
      "48 CC 82 E4 \n",
      "E1 08 46 A1 \n",
      "6C 8D 4C D9 \n",
      "72 83 00 04 \n"
     ]
    }
   ],
   "source": [
    "#Initial data state\n",
    "stateInvSub = [0xd42711ae, 0xe0bf98f1, 0xb8b45de5, 0x1e415230]\n",
    "\n",
    "#Data going through SubByte Process\n",
    "stateInvSub = SubBytes(stateInvSub)\n",
    "\n",
    "DisplayState(stateInvSub)\n",
    "    \n",
    "#Output after SubByte Process"
   ]
  },
  {
   "cell_type": "code",
   "execution_count": 50,
   "metadata": {},
   "outputs": [
    {
     "name": "stdout",
     "output_type": "stream",
     "text": [
      "D4 27 11 AE \n",
      "E0 BF 98 F1 \n",
      "B8 B4 5D E5 \n",
      "1E 41 52 30 \n"
     ]
    }
   ],
   "source": [
    "#Data going trough Inverse SubByte Process\n",
    "stateInvSub = InvSubBytes(stateInvSub)\n",
    "\n",
    "DisplayState(stateInvSub)\n",
    "    \n",
    "#Output after Reverse SubByte Process"
   ]
  },
  {
   "cell_type": "markdown",
   "metadata": {},
   "source": [
    "<h2>Inverse ShiftRows</h2>\n",
    "<p>In order to reverse the ShiftRows operation of the encryption algorithm, we must shift the rows of the state matrix in the opposite direction. The first row is not changed by the inverse ShiftRows transformation. </p>"
   ]
  },
  {
   "cell_type": "code",
   "execution_count": 51,
   "metadata": {},
   "outputs": [],
   "source": [
    "def InvShiftRows(state):\n",
    "    \n",
    "    # State is a 4-word list\n",
    "    result = [0 for x in range(len(state))]\n",
    "    \n",
    "    # Shift-row operation\n",
    "    # On Encryption, we shifted second row to the left by 1\n",
    "    # On Decryption, we just do the opposite by shifting it to the right by 1\n",
    "    # Vice versa for third and forth row, first row is untouch.\n",
    "    for i in range(len(state)):\n",
    "        result[i] = (state[i] & 0xff000000) | (state[i - 1] & 0xff0000)\\\n",
    "        | (state[i - 2] & 0xff00) | (state[i - 3] & 0xff)\n",
    "    \n",
    "    return result"
   ]
  },
  {
   "cell_type": "markdown",
   "metadata": {},
   "source": [
    "<h3>Try Yourself</h3>"
   ]
  },
  {
   "cell_type": "code",
   "execution_count": 52,
   "metadata": {},
   "outputs": [
    {
     "name": "stdout",
     "output_type": "stream",
     "text": [
      "D4 BF 5D 30 \n",
      "E0 B4 52 AE \n",
      "B8 41 11 F1 \n",
      "1E 27 98 E5 \n"
     ]
    }
   ],
   "source": [
    "#Initial Data State\n",
    "StateInvShiftRow = [0xd42711ae, 0xe0bf98f1, 0xb8b45de5, 0x1e415230]\n",
    "\n",
    "#Data going through ShiftRow Process\n",
    "StateInvShiftRow = ShiftRows(StateInvShiftRow)\n",
    "\n",
    "DisplayState(StateInvShiftRow)\n",
    "#Output data after ShiftRow Process"
   ]
  },
  {
   "cell_type": "code",
   "execution_count": 53,
   "metadata": {},
   "outputs": [
    {
     "name": "stdout",
     "output_type": "stream",
     "text": [
      "D4 27 11 AE \n",
      "E0 BF 98 F1 \n",
      "B8 B4 5D E5 \n",
      "1E 41 52 30 \n"
     ]
    }
   ],
   "source": [
    "#Data going through InvShiftRow Process\n",
    "StateInvShiftRow = InvShiftRows(StateInvShiftRow)\n",
    "\n",
    "DisplayState(StateInvShiftRow)\n",
    "#Output data after InvShiftRow Process"
   ]
  },
  {
   "cell_type": "markdown",
   "metadata": {},
   "source": [
    "<h2>Inverse MixColumns</h2>\n",
    "\n",
    "<p>In order to reverse the MixColumn operation, the inverse of its matrix must be used. The input is a 4-byte column of the INV_MIXCOL_MATRIX which is multiplied by the inverse 4×4 matrix. The matrix contains constant entries. Multiplication and addition of the coefficients is done in GF(2<sup>8</sup>)."
   ]
  },
  {
   "cell_type": "code",
   "execution_count": 54,
   "metadata": {},
   "outputs": [],
   "source": [
    "# Constant matrix to be used in MixColumn operation\n",
    "INV_MIXCOL_MATRIX = [\n",
    "    [0xe, 0xb, 0xd, 0x9],\n",
    "    [0x9, 0xe, 0xb, 0xd],\n",
    "    [0xd, 0x9, 0xe, 0xb],\n",
    "    [0xb, 0xd, 0x9, 0xe]\n",
    "]"
   ]
  },
  {
   "cell_type": "code",
   "execution_count": 55,
   "metadata": {},
   "outputs": [],
   "source": [
    "def InvMixColumns(state):\n",
    "    result = [0 for x in range(len(state))]\n",
    "    \n",
    "    # Matrix multiplication\n",
    "    for i in range (4):\n",
    "        for j in range(4):\n",
    "            # Initialize tmp\n",
    "            tmp = 0\n",
    "            \n",
    "            for k in range(4):\n",
    "                tmp ^= PolyMul(GetByte(state[i],k), INV_MIXCOL_MATRIX[j][k])\n",
    "                \n",
    "            result[i] = (result[i] << 8) | tmp\n",
    "\n",
    "    return result"
   ]
  },
  {
   "cell_type": "markdown",
   "metadata": {},
   "source": [
    "<h3>Try Yourself</h3>"
   ]
  },
  {
   "cell_type": "code",
   "execution_count": 56,
   "metadata": {},
   "outputs": [
    {
     "name": "stdout",
     "output_type": "stream",
     "text": [
      "65 07 38 16 \n",
      "68 C7 7C E5 \n",
      "14 C9 82 EB \n",
      "9D 5A AB 51 \n"
     ]
    }
   ],
   "source": [
    "#Initial Data State\n",
    "stateInvMixColumn = [0xd42711ae, 0xe0bf98f1, 0xb8b45de5, 0x1e415230]\n",
    "\n",
    "#Data going through MixColumn Process\n",
    "stateInvMixColumn = MixColumns(stateInvMixColumn)\n",
    "\n",
    "DisplayState(stateInvMixColumn)\n",
    "#Output after MixColumn Process"
   ]
  },
  {
   "cell_type": "code",
   "execution_count": 57,
   "metadata": {},
   "outputs": [
    {
     "name": "stdout",
     "output_type": "stream",
     "text": [
      "D4 27 11 AE \n",
      "E0 BF 98 F1 \n",
      "B8 B4 5D E5 \n",
      "1E 41 52 30 \n"
     ]
    }
   ],
   "source": [
    "#Data going through InvMixColumn Process\n",
    "stateInvMixColumn = InvMixColumns(stateInvMixColumn)\n",
    "\n",
    "DisplayState(stateInvMixColumn)    \n",
    "#Output after Inverse MixColumn Process"
   ]
  },
  {
   "cell_type": "markdown",
   "metadata": {},
   "source": [
    "<h1>Combine all AES decryption function</h1>"
   ]
  },
  {
   "cell_type": "code",
   "execution_count": 58,
   "metadata": {},
   "outputs": [],
   "source": [
    "# The inverse of a normal round\n",
    "def InvRound(state, roundkey):\n",
    "    result = AddRoundKey(state, roundkey)\n",
    "    result = InvMixColumns(result)\n",
    "    result = InvShiftRows(result)\n",
    "    result = InvSubBytes(result)\n",
    "    \n",
    "    return result"
   ]
  },
  {
   "cell_type": "code",
   "execution_count": 59,
   "metadata": {},
   "outputs": [],
   "source": [
    "# The inverse of final round\n",
    "def InvFinalRound(state, roundkey):\n",
    "    result = AddRoundKey(state, roundkey)\n",
    "    result = InvShiftRows(result)\n",
    "    result = InvSubBytes(result)\n",
    "    \n",
    "    return result"
   ]
  },
  {
   "cell_type": "code",
   "execution_count": 60,
   "metadata": {},
   "outputs": [],
   "source": [
    "def AESDecrypt(state, cipherkey):\n",
    "    # Use same ExpandKey function to expand the cipher key\n",
    "    expandedkey = ExpandKey(cipherkey)\n",
    "    \n",
    "    # Determine number of rounds based on cipher key length\n",
    "    if len(cipherkey) == 4: # 128-bits key, 10 rounds\n",
    "        roundnum = 10\n",
    "    elif len(cipherkey) == 6: #192-bits key, 12 rounds\n",
    "        roundnum = 12\n",
    "    elif len(cipherkey) == 8: #256-bits key, 14 rounds\n",
    "        roundnum = 14\n",
    "    else:\n",
    "        # Throw error here\n",
    "        raise ValueError(\"Cipher key format incorrect!\")\n",
    "    \n",
    "    # Inverse the Final Round\n",
    "    result = InvFinalRound(state, GetRoundKey(expandedkey, roundnum))\n",
    "    \n",
    "    # Nr-1 rounds\n",
    "    for i in range(roundnum-1 , 0, -1):\n",
    "        result = InvRound(result, GetRoundKey(expandedkey, i))\n",
    "    \n",
    "    # Add cipher key\n",
    "    result = AddRoundKey(result, cipherkey)\n",
    "    \n",
    "    return result"
   ]
  },
  {
   "cell_type": "markdown",
   "metadata": {},
   "source": [
    "<h3>Try Yourself</h3>"
   ]
  },
  {
   "cell_type": "code",
   "execution_count": 61,
   "metadata": {},
   "outputs": [
    {
     "name": "stdout",
     "output_type": "stream",
     "text": [
      "4F CB 8D B8 \n",
      "57 84 A2 C1 \n",
      "BB 77 DB 7E \n",
      "DE 32 17 AC \n"
     ]
    }
   ],
   "source": [
    "tstate = [0x3243f6a8, 0x885a308d, 0x313198a2, 0xe0370734]\n",
    "tkey = [0x2b7e1516, 0x28aed2a6, 0xabf71588, 0x09cf4f3c, 0x2b7e1516, 0x28aed2a6]\n",
    "\n",
    "tresult = AESEncrypt(tstate, tkey)\n",
    "\n",
    "DisplayState(tresult)"
   ]
  },
  {
   "cell_type": "code",
   "execution_count": 62,
   "metadata": {
    "scrolled": true
   },
   "outputs": [
    {
     "name": "stdout",
     "output_type": "stream",
     "text": [
      "32 43 F6 A8 \n",
      "88 5A 30 8D \n",
      "31 31 98 A2 \n",
      "E0 37 07 34 \n"
     ]
    }
   ],
   "source": [
    "tstate = [0x4fcb8db8, 0x5784a2c1, 0xbb77db7e, 0xde3217ac]\n",
    "tkey = [0x2b7e1516, 0x28aed2a6, 0xabf71588, 0x09cf4f3c, 0x2b7e1516, 0x28aed2a6]\n",
    "\n",
    "tresult = AESDecrypt(tstate, tkey)\n",
    "\n",
    "DisplayState(tresult)"
   ]
  },
  {
   "cell_type": "code",
   "execution_count": 63,
   "metadata": {
    "scrolled": true
   },
   "outputs": [
    {
     "name": "stdout",
     "output_type": "stream",
     "text": [
      "F0 31 D4 D7 \n",
      "4F 5D CB F3 \n",
      "9D AA F8 CA \n",
      "3A F6 E5 27 \n"
     ]
    }
   ],
   "source": [
    "tstate = [0xe0000000, 0, 0, 0]\n",
    "tkey = [0,0,0,0]\n",
    "\n",
    "tresult = AESEncrypt(tstate, tkey)\n",
    "\n",
    "DisplayState(tresult)"
   ]
  },
  {
   "cell_type": "markdown",
   "metadata": {},
   "source": [
    "<h3>AES Application</h3>"
   ]
  },
  {
   "cell_type": "code",
   "execution_count": 64,
   "metadata": {},
   "outputs": [],
   "source": [
    "# Converting from a string to a list of words\n",
    "def StringtoState(hextext):\n",
    "    if len(hextext) % 4 != 0:\n",
    "        raise ValueError(\"Input must with a length of multiple of four!\")\n",
    "    \n",
    "    result = [0] * (len(hextext)//8)\n",
    "    state = [hextext[i:i+8] for i in range(0, len(hextext), 8)]\n",
    "    \n",
    "    # Convert from string to integer\n",
    "    for i in range(len(result)):\n",
    "        result[i] = int(state[i], 16)\n",
    "        \n",
    "    return result"
   ]
  },
  {
   "cell_type": "code",
   "execution_count": 65,
   "metadata": {},
   "outputs": [],
   "source": [
    "def StatetoString(state):\n",
    "    result = \"\"\n",
    "    \n",
    "    \n",
    "    for i in range(len(state)):\n",
    "        result += \"{:08x}\".format(state[i])\n",
    "        \n",
    "    return result"
   ]
  },
  {
   "cell_type": "code",
   "execution_count": 66,
   "metadata": {},
   "outputs": [
    {
     "data": {
      "text/plain": [
       "'e0000000000000000000000000000000'"
      ]
     },
     "execution_count": 66,
     "metadata": {},
     "output_type": "execute_result"
    }
   ],
   "source": [
    "StatetoString(tstate)"
   ]
  },
  {
   "cell_type": "code",
   "execution_count": 67,
   "metadata": {},
   "outputs": [
    {
     "name": "stdout",
     "output_type": "stream",
     "text": [
      "4294967295\n"
     ]
    }
   ],
   "source": [
    "print(StringtoState('fffffffffffffffffffff00000000000')[1])"
   ]
  },
  {
   "cell_type": "code",
   "execution_count": 68,
   "metadata": {},
   "outputs": [],
   "source": [
    "def AESEncryptStr(text, cipherkey):\n",
    "    # \n",
    "    result = StatetoString(AESEncrypt(StringtoState(text), StringtoState(cipherkey)))\n",
    "    return result"
   ]
  },
  {
   "cell_type": "code",
   "execution_count": 69,
   "metadata": {},
   "outputs": [
    {
     "data": {
      "text/plain": [
       "'b13db4da1f718bc6904797c82bcf2d32'"
      ]
     },
     "execution_count": 69,
     "metadata": {},
     "output_type": "execute_result"
    }
   ],
   "source": [
    "AESEncryptStr('ffffffffffffffffffffffffffffffff', '000000000000000000000000000000000000000000000000')"
   ]
  },
  {
   "cell_type": "code",
   "execution_count": 70,
   "metadata": {},
   "outputs": [],
   "source": [
    "def AESDecryptStr(text, cipherkey):\n",
    "    # \n",
    "    result = StatetoString(AESDecrypt(StringtoState(text), StringtoState(cipherkey)))\n",
    "    return result"
   ]
  },
  {
   "cell_type": "code",
   "execution_count": 71,
   "metadata": {
    "scrolled": true
   },
   "outputs": [
    {
     "data": {
      "text/plain": [
       "'140f0f1011b5223d79587717ffd9ec3a'"
      ]
     },
     "execution_count": 71,
     "metadata": {},
     "output_type": "execute_result"
    }
   ],
   "source": [
    "AESDecryptStr('00000000000000000000000000000000', '00000000000000000000000000000000')"
   ]
  },
  {
   "cell_type": "code",
   "execution_count": 102,
   "metadata": {},
   "outputs": [
    {
     "name": "stdout",
     "output_type": "stream",
     "text": [
      "File name:  GFSbox .csv\n",
      "0.109375\n",
      "Total number of records tested:  18\n",
      "Total number of encryption passed:  18\n",
      "Total number of decryption passed:  18 \n",
      "\n",
      "File name:  KeySBox.csv\n",
      "0.34375\n",
      "Total number of records tested:  61\n",
      "Total number of encryption passed:  61\n",
      "Total number of decryption passed:  61 \n",
      "\n",
      "File name:  VarTxt.csv\n",
      "1.484375\n",
      "Total number of records tested:  384\n",
      "Total number of encryption passed:  384\n",
      "Total number of decryption passed:  384 \n",
      "\n"
     ]
    }
   ],
   "source": [
    "import csv\n",
    "import time\n",
    "\n",
    "def AESTest(file):\n",
    "    with open(file, newline='',) as csvfile:\n",
    "        reader = csv.reader(csvfile)\n",
    "        passcounter = 0\n",
    "        decryptcounter = 0\n",
    "        totalcounter = 0\n",
    "        start = time.process_time()\n",
    "        \n",
    "        for row in reader:\n",
    "            # row[0]: plaintext \n",
    "            # row[1]: key\n",
    "            # row[2]: ciphertext\n",
    "            if AESEncryptStr(row[0], row[1]) == row[2]:\n",
    "                passcounter += 1\n",
    "            \n",
    "            if AESDecryptStr(row[2], row[1]) == row[0]:\n",
    "                decryptcounter += 1\n",
    "            totalcounter += 1\n",
    "        \n",
    "        # Print test results\n",
    "        print(\"File name: \", file)\n",
    "        print(time.process_time() - start)\n",
    "        print(\"Total number of records tested: \",totalcounter)\n",
    "        print(\"Total number of encryption passed: \",totalcounter)\n",
    "        print(\"Total number of decryption passed: \",decryptcounter, \"\\n\")\n",
    "        \n",
    "AESTest(\"GFSbox .csv\")\n",
    "AESTest(\"KeySBox.csv\")\n",
    "AESTest(\"VarTxt.csv\")"
   ]
  },
  {
   "cell_type": "code",
   "execution_count": null,
   "metadata": {},
   "outputs": [],
   "source": []
  },
  {
   "cell_type": "markdown",
   "metadata": {},
   "source": [
    "<h1>Reference List</h1>\n",
    "<p>\n",
    "https://en.wikipedia.org/wiki/Advanced_Encryption_Standard\n",
    "\n",
    "https://en.wikipedia.org/wiki/Finite_field_arithmetic\n",
    "\n",
    "http://statmath.wu.ac.at/courses/data-analysis/itdtHTML/node55.html\n",
    "\n",
    "https://sites.math.washington.edu/~morrow/336_12/papers/juan.pdf<p>"
   ]
  },
  {
   "cell_type": "markdown",
   "metadata": {},
   "source": [
    "<p>Worked as part of Final Year Project by Zhang Chengxuan</p>"
   ]
  }
 ],
 "metadata": {
  "kernelspec": {
   "display_name": "Python 3",
   "language": "python",
   "name": "python3"
  },
  "language_info": {
   "codemirror_mode": {
    "name": "ipython",
    "version": 3
   },
   "file_extension": ".py",
   "mimetype": "text/x-python",
   "name": "python",
   "nbconvert_exporter": "python",
   "pygments_lexer": "ipython3",
   "version": "3.7.4"
  }
 },
 "nbformat": 4,
 "nbformat_minor": 2
}
